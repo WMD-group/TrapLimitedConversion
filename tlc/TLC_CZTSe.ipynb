{
 "cells": [
  {
   "cell_type": "code",
   "execution_count": 1,
   "metadata": {},
   "outputs": [],
   "source": [
    "%load_ext autoreload\n",
    "%autoreload 2"
   ]
  },
  {
   "cell_type": "markdown",
   "metadata": {},
   "source": [
    "# Trap-limited conversion efficiency (TLC)\n",
    "## the case of CZTSe"
   ]
  },
  {
   "cell_type": "code",
   "execution_count": 47,
   "metadata": {},
   "outputs": [],
   "source": [
    "import numpy as np\n",
    "import matplotlib.pyplot as plt"
   ]
  },
  {
   "cell_type": "code",
   "execution_count": 29,
   "metadata": {},
   "outputs": [],
   "source": [
    "e = 1.60217662E-19 # elementary charge\n",
    "kb = 8.6173303e-5  # Boltzmann constant\n",
    "sun_power = 100.   # mW/cm2"
   ]
  },
  {
   "cell_type": "code",
   "execution_count": 22,
   "metadata": {},
   "outputs": [],
   "source": [
    "thickness = 2000 # nm"
   ]
  },
  {
   "cell_type": "markdown",
   "metadata": {},
   "source": [
    "## SC-FERMI"
   ]
  },
  {
   "cell_type": "code",
   "execution_count": 44,
   "metadata": {},
   "outputs": [
    {
     "name": "stdout",
     "output_type": "stream",
     "text": [
      "fermi_level (anneal): 0.314 eV\n",
      "fermi_level (frozen): 0.235 eV\n",
      "run completed at T = 300.00 K\n"
     ]
    }
   ],
   "source": [
    "from run_scfermi import Scfermi\n",
    "\n",
    "Tanneal = 854 # K\n",
    "Tfrozen = 300 # K\n",
    "dopants_anneal = []\n",
    "\n",
    "scfermi = Scfermi.from_file(path=\"input-fermi_Se8,Zn1Se1,Sn1Se2.dat\")\n",
    "\n",
    "\n",
    "scfermi._run(T=Tanneal)\n",
    "print(\"fermi_level (anneal): {:.3f} eV\".format(scfermi.fermi_level))\n",
    "\n",
    "scfermi._run(T=Tfrozen, mode='frozen')\n",
    "print(\"fermi_level (frozen): {:.3f} eV\".format(scfermi.fermi_level))\n",
    "\n",
    "print('run completed at T = {:.2f} K'.format(scfermi.T))\n"
   ]
  },
  {
   "cell_type": "markdown",
   "metadata": {},
   "source": [
    "## SQ limit"
   ]
  },
  {
   "cell_type": "code",
   "execution_count": 45,
   "metadata": {},
   "outputs": [
    {
     "name": "stdout",
     "output_type": "stream",
     "text": [
      "===================\n",
      "SQlimit E_gap: 1.01 eV at T=300.0 K with W=2000.00 nm\n",
      "===================\n",
      "VOC: 0.774 V, JSC: 47.682 mA/cm2, J0: 4.741e-12 mA/cm2\n",
      "PCE: 31.627 \\%\n",
      "FF: 85.696 \\%\n",
      "===================\n"
     ]
    }
   ],
   "source": [
    "import SQlimit\n",
    "\n",
    "e_gap = scfermi.e_gap\n",
    "temp = Tfrozen\n",
    "\n",
    "sq = SQlimit.SQlim\n",
    "\n",
    "param = sq(temp).get_paras(e_gap, False)\n",
    "voc = param[\"Voc\"]\n",
    "jsc = param[\"Jsc\"]\n",
    "j0 = param[\"J0\"]\n",
    "vc = kb*temp\n",
    "\n",
    "j_sq = lambda v: jsc + j0 * (1.-np.exp(v/vc))\n",
    "\n",
    "print(\"===================\")\n",
    "print(\"SQlimit E_gap: {:.2f} eV at T={:.1f} K with W={:.2f} nm\".format(e_gap, temp, thickness))\n",
    "print(\"===================\")\n",
    "print(\"VOC: {:.3f} V, JSC: {:.3f} mA/cm2, J0: {:.3e} mA/cm2\".format(voc, jsc, j0))\n",
    "print(\"PCE: {:.3f} \\%\".format(param[\"PCE\"]))\n",
    "print(\"FF: {:.3f} \\%\".format(param[\"FF\"]))\n",
    "print(\"===================\")\n",
    "\n",
    "\n"
   ]
  },
  {
   "cell_type": "markdown",
   "metadata": {},
   "source": [
    "## Trap-limited conversion efficiency"
   ]
  },
  {
   "cell_type": "code",
   "execution_count": 46,
   "metadata": {},
   "outputs": [
    {
     "name": "stdout",
     "output_type": "stream",
     "text": [
      "Trap-limited conversion efficiency\n",
      "-------------------------------\n",
      "JSC: 47.68 (mA/cm2),  \n",
      "VOC: 0.77 (V) \n",
      "-------------------------------\n",
      "-------------------------------\n",
      "J_max: 45.22,  \n",
      "V_max: 0.45 (V), \n",
      "FF: 55.07% \n",
      "eff: 20.32% \n",
      "-------------------------------\n"
     ]
    }
   ],
   "source": [
    "from solarsim_linemode import solve_jv, read_traps\n",
    "\n",
    "# read traps\n",
    "\n",
    "trap_list = read_traps(file='trap.dat')\n",
    "\n",
    "vout_list = np.linspace(0-0.1, e_gap, 100)\n",
    "jout_list = []\n",
    "\n",
    "for v in vout_list:\n",
    "    j = solve_jv(scfermi, trap_list, v, thickness)\n",
    "    jout_list.append(j)\n",
    "\n",
    "power = jout_list*vout_list\n",
    "max_i = np.argmax(power)\n",
    "\n",
    "print(\"Trap-limited conversion efficiency\")\n",
    "print(\"-------------------------------\"\n",
    "    \"\\nJSC: {:.2f} (mA/cm2), \".format(jsc),\n",
    "      \"\\nVOC: {:.2f} (V)\".format(voc),\n",
    "      \"\\n-------------------------------\")\n",
    "print(\"-------------------------------\"\n",
    "    \"\\nJ_max: {:.2f}, \".format(jout_list[max_i]),\n",
    "      \"\\nV_max: {:.2f} (V),\".format(vout_list[max_i]),\n",
    "      \"\\nFF: {:.2f}%\".format(100*power[max_i]/jsc/voc),\n",
    "      \"\\neff: {:.2f}%\".format(100*power[max_i]/sun_power),\n",
    "      \"\\n-------------------------------\")"
   ]
  },
  {
   "cell_type": "code",
   "execution_count": 55,
   "metadata": {},
   "outputs": [
    {
     "data": {
      "text/plain": [
       "Text(0, 0.5, 'J (meV/cm2)')"
      ]
     },
     "execution_count": 55,
     "metadata": {},
     "output_type": "execute_result"
    },
    {
     "data": {
      "image/png": "[encoded data removed]",
      "text/plain": [
       "<Figure size 432x288 with 1 Axes>"
      ]
     },
     "metadata": {},
     "output_type": "display_data"
    }
   ],
   "source": [
    "plt.plot(vout_list, j_sq(vout_list), label = \"SQ limit\")\n",
    "plt.plot(vout_list, jout_list, label = \"TLC\")\n",
    "\n",
    "\n",
    "plt.legend()\n",
    "\n",
    "\n",
    "plt.ylim((0, 50))\n",
    "plt.xlim((0, 1.2))\n",
    "plt.xlabel(\"V (V)\")\n",
    "plt.ylabel(\"J (meV/cm2)\")"
   ]
  },
  {
   "cell_type": "code",
   "execution_count": null,
   "metadata": {},
   "outputs": [],
   "source": []
  }
 ],
 "metadata": {
  "kernelspec": {
   "display_name": "Python 3",
   "language": "python",
   "name": "python3"
  },
  "language_info": {
   "codemirror_mode": {
    "name": "ipython",
    "version": 3
   },
   "file_extension": ".py",
   "mimetype": "text/x-python",
   "name": "python",
   "nbconvert_exporter": "python",
   "pygments_lexer": "ipython3",
   "version": "3.7.2"
  }
 },
 "nbformat": 4,
 "nbformat_minor": 2
}
