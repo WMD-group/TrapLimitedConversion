{
 "cells": [
  {
   "cell_type": "code",
   "execution_count": 1,
   "id": "d7158700-f0dc-4954-b7db-037a7dc9db0d",
   "metadata": {},
   "outputs": [],
   "source": [
    "import sys\n",
    "import os\n",
    "\n",
    "package_path = os.path.abspath(os.path.join('..', 'tlc'))\n",
    "\n",
    "if package_path not in sys.path:\n",
    "    sys.path.append(package_path)\n",
    "\n",
    "from tlc import *"
   ]
  },
  {
   "cell_type": "markdown",
   "id": "6c7d2a22-85f5-4230-95ea-3e31de0ebe76",
   "metadata": {},
   "source": [
    "# SQ limit"
   ]
  },
  {
   "cell_type": "code",
   "execution_count": null,
   "id": "935265cf-14bb-4b9d-bb75-7ab489338ffe",
   "metadata": {},
   "outputs": [],
   "source": [
    "poscar_path=\"Sb2Se3/POSCAR\"\n",
    "totdos_path=\"Sb2Se3/totdos.dat\""
   ]
  },
  {
   "cell_type": "code",
   "execution_count": null,
   "id": "48bdff57-15ca-4f05-9594-bbd452dbd9fc",
   "metadata": {},
   "outputs": [],
   "source": [
    "tlc.ALPHA_FILE = f\"Sb2Se3/alpha_hse_direct_avg.csv\"\n",
    "atlc_Sb2Se3 = tlc(1.419, T=300, Tanneal=550, thickness=500,poscar_path=poscar_path,totdos_path=totdos_path)\n",
    "print(atlc_Sb2Se3)"
   ]
  }
 ],
 "metadata": {
  "kernelspec": {
   "display_name": "Python 3 (ipykernel)",
   "language": "python",
   "name": "python3"
  },
  "language_info": {
   "codemirror_mode": {
    "name": "ipython",
    "version": 3
   },
   "file_extension": ".py",
   "mimetype": "text/x-python",
   "name": "python",
   "nbconvert_exporter": "python",
   "pygments_lexer": "ipython3",
   "version": "3.10.2"
  }
 },
 "nbformat": 4,
 "nbformat_minor": 5
}
